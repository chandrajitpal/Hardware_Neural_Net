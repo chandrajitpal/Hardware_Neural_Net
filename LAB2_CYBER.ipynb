{
  "nbformat": 4,
  "nbformat_minor": 0,
  "metadata": {
    "colab": {
      "provenance": [],
      "authorship_tag": "ABX9TyMvjr43QWaOUsVoImE0Eead",
      "include_colab_link": true
    },
    "kernelspec": {
      "name": "python3",
      "display_name": "Python 3"
    },
    "language_info": {
      "name": "python"
    }
  },
  "cells": [
    {
      "cell_type": "markdown",
      "metadata": {
        "id": "view-in-github",
        "colab_type": "text"
      },
      "source": [
        "<a href=\"https://colab.research.google.com/github/chandrajitpal/Hardware_Neural_Net/blob/master/LAB2_CYBER.ipynb\" target=\"_parent\"><img src=\"https://colab.research.google.com/assets/colab-badge.svg\" alt=\"Open In Colab\"/></a>"
      ]
    },
    {
      "cell_type": "code",
      "execution_count": 1,
      "metadata": {
        "id": "vmob8t-wWih1",
        "colab": {
          "base_uri": "https://localhost:8080/"
        },
        "outputId": "66f0edb5-dde4-4d3f-b749-79cd9acebecb"
      },
      "outputs": [
        {
          "output_type": "stream",
          "name": "stdout",
          "text": [
            "[58, 64]\n",
            "[139, 154]\n",
            "[19, 22]\n",
            "[43, 50]\n"
          ]
        }
      ],
      "source": [
        "# prompt: write a python code for matrix mult\n",
        "\n",
        "def matrix_multiply(A, B):\n",
        "  \"\"\"Multiplies two matrices A and B.\n",
        "\n",
        "  Args:\n",
        "    A: The first matrix (list of lists).\n",
        "    B: The second matrix (list of lists).\n",
        "\n",
        "  Returns:\n",
        "    The product matrix (list of lists), or None if the matrices cannot be multiplied.\n",
        "  \"\"\"\n",
        "  if len(A[0]) != len(B):\n",
        "    print(\"Matrices cannot be multiplied: Inner dimensions do not match.\")\n",
        "    return None\n",
        "\n",
        "  rows_A = len(A)\n",
        "  cols_A = len(A[0])\n",
        "  rows_B = len(B)\n",
        "  cols_B = len(B[0])\n",
        "\n",
        "  # Initialize the result matrix with zeros\n",
        "  result = [[0 for _ in range(cols_B)] for _ in range(rows_A)]\n",
        "\n",
        "  # Perform the multiplication\n",
        "  for i in range(rows_A):\n",
        "    for j in range(cols_B):\n",
        "      for k in range(cols_A):\n",
        "        result[i][j] += A[i][k] * B[k][j]\n",
        "\n",
        "  return result\n",
        "\n",
        "# Example usage:\n",
        "matrix_a = [[1, 2, 3],\n",
        "            [4, 5, 6]]\n",
        "\n",
        "matrix_b = [[7, 8],\n",
        "            [9, 10],\n",
        "            [11, 12]]\n",
        "\n",
        "product_matrix = matrix_multiply(matrix_a, matrix_b)\n",
        "\n",
        "if product_matrix:\n",
        "  for row in product_matrix:\n",
        "    print(row)\n",
        "\n",
        "matrix_c = [[1, 2],\n",
        "            [3, 4]]\n",
        "\n",
        "matrix_d = [[5, 6],\n",
        "            [7, 8]]\n",
        "\n",
        "product_matrix_2 = matrix_multiply(matrix_c, matrix_d)\n",
        "\n",
        "if product_matrix_2:\n",
        "    for row in product_matrix_2:\n",
        "        print(row)\n",
        "\n",
        "# Example of incompatible matrices\n",
        "matrix_e = [[1, 2]]\n",
        "matrix_f = [[3, 4],\n",
        "            [5, 6]]\n",
        "\n",
        "product_matrix_3 = matrix_multiply(matrix_e, matrix_f)\n"
      ]
    }
  ]
}